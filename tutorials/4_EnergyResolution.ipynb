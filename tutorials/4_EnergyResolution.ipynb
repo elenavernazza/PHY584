{
 "cells": [
  {
   "cell_type": "markdown",
   "metadata": {},
   "source": [
    "# Energy resolution"
   ]
  },
  {
   "cell_type": "markdown",
   "metadata": {},
   "source": [
    "In this notebook we are going to study the energy resolution of the HGCAL prototype. As done in the last notebook, we create the energy distribution and we fit it with a gaussian shape: for a given run (let's say the 435 we are considering here), we reconstruct the energy deposit as the sum of all the rechit_energy in a given event."
   ]
  },
  {
   "cell_type": "code",
   "execution_count": null,
   "metadata": {},
   "outputs": [],
   "source": [
    "import matplotlib\n",
    "import matplotlib.pyplot as plt\n",
    "from scipy.optimize import curve_fit\n",
    "from scipy.special import erf, erfc, gamma\n",
    "import numpy as np\n",
    "import pandas as pd\n",
    "import uproot"
   ]
  },
  {
   "cell_type": "code",
   "execution_count": null,
   "metadata": {},
   "outputs": [],
   "source": [
    "dirname = '/data_CMS/cms/vernazza/electrons/'\n",
    "fname = dirname + 'ntuple_435.root'\n",
    "key='rechitntupler/hits'"
   ]
  },
  {
   "cell_type": "code",
   "execution_count": null,
   "metadata": {},
   "outputs": [],
   "source": [
    "branches = [u'rechit_chip', 'rechit_module', 'rechit_channel',\n",
    "                u'rechit_energy', 'rechit_layer']"
   ]
  },
  {
   "cell_type": "code",
   "execution_count": null,
   "metadata": {},
   "outputs": [],
   "source": [
    "ttree = uproot.open(fname)[key]\n",
    "df = ttree.pandas.df(branches, entrystop=5000)"
   ]
  },
  {
   "cell_type": "code",
   "execution_count": null,
   "metadata": {},
   "outputs": [],
   "source": [
    "df = df.reset_index(level=1,drop=True)\n",
    "df.index.names = ['event']"
   ]
  },
  {
   "cell_type": "markdown",
   "metadata": {},
   "source": [
    "In the last notebook we have observed how important it is to apply selections over the events. In particular we want to:"
   ]
  },
  {
   "cell_type": "code",
   "execution_count": null,
   "metadata": {},
   "outputs": [],
   "source": [
    "# Select only the EE layers\n",
    "sel = df['rechit_layer'] < 29\n",
    "\n",
    "# Cut small energy deposits\n",
    "sel &= df['rechit_energy'] > 0.5\n",
    "\n",
    "# Remove chip 0 of layer 1 because it presented some deffects\n",
    "sel &= (df['rechit_layer'] != 1) | (df['rechit_chip'] != 0)"
   ]
  },
  {
   "cell_type": "markdown",
   "metadata": {},
   "source": [
    "Plot the histogram with a proper binning, then use the option `curve_fit` to fit it with a gaussian."
   ]
  },
  {
   "cell_type": "code",
   "execution_count": null,
   "metadata": {},
   "outputs": [],
   "source": [
    "def gaussian(x, A, sigma, mu):\n",
    "    return A/(sigma * np.sqrt(2 * np.pi))*np.exp( - (x - mu)**2 / (2 * sigma**2) )"
   ]
  },
  {
   "cell_type": "code",
   "execution_count": null,
   "metadata": {},
   "outputs": [],
   "source": [
    "popt, pcov = curve_fit(gaussian, bins_c, n, p0 = [n.max(), np.std(bins_c), np.median(bins_c)])"
   ]
  },
  {
   "cell_type": "markdown",
   "metadata": {},
   "source": [
    "The fit should be performed in the interval [-1$\\sigma$, 2.5$\\sigma$] centered in the gaussian peak.\n",
    "\n",
    "What is the resolution of the HGCAL? Is it independent from the energy of the the beam? What do you expect for a less energetic beam?"
   ]
  },
  {
   "cell_type": "markdown",
   "metadata": {},
   "source": [
    "## Exercise"
   ]
  },
  {
   "cell_type": "markdown",
   "metadata": {},
   "source": [
    "For each dataset in the `dirname` folder:\n",
    " * Open the file as a pandas `df`;\n",
    " * Create the energy sum distributions (use EE only);\n",
    " * Fit all the distributions with a gaussian around the core and extract the fit parameters;\n",
    " * Plot the resolution $\\sigma/E$ from the fits vs the beam energy $E$."
   ]
  },
  {
   "cell_type": "code",
   "execution_count": null,
   "metadata": {},
   "outputs": [],
   "source": [
    "energies = np.array([20, 30, 50, 80, 100, 120, 150, 200, 250, 300])\n",
    "runs = {\n",
    "    20:  455,\n",
    "    30:  596,\n",
    "    50:  458,\n",
    "    80:  469,\n",
    "    100: 490,\n",
    "    120: 620,\n",
    "    150: 494,\n",
    "    200: 664,\n",
    "    250: 653,\n",
    "    300: 435\n",
    "}"
   ]
  }
 ],
 "metadata": {
  "kernelspec": {
   "display_name": "Python 3",
   "language": "python",
   "name": "python3"
  },
  "language_info": {
   "codemirror_mode": {
    "name": "ipython",
    "version": 2
   },
   "file_extension": ".py",
   "mimetype": "text/x-python",
   "name": "python",
   "nbconvert_exporter": "python",
   "pygments_lexer": "ipython2",
   "version": "2.7.15+"
  }
 },
 "nbformat": 4,
 "nbformat_minor": 2
}
