{
 "cells": [
  {
   "cell_type": "markdown",
   "metadata": {},
   "source": [
    "# Longitudinal profiles"
   ]
  },
  {
   "cell_type": "code",
   "execution_count": null,
   "metadata": {},
   "outputs": [],
   "source": [
    "import matplotlib\n",
    "import matplotlib.pyplot as plt\n",
    "from scipy.optimize import curve_fit\n",
    "from scipy.special import erf, erfc, gamma\n",
    "import numpy as np\n",
    "import pandas as pd\n",
    "import uproot3"
   ]
  },
  {
   "cell_type": "markdown",
   "metadata": {},
   "source": [
    "In this notebook we give a look at longitudinal profiles. In the previous tutorials, we have seen how to construct the longitudinal hits profile. Here we are going to create the energy profile, fit it and study which information we can extract from the fit parameters. \n",
    "\n",
    "First of all we load our sample:"
   ]
  },
  {
   "cell_type": "code",
   "execution_count": null,
   "metadata": {},
   "outputs": [],
   "source": [
    "dirname = '/data_CMS/cms/vernazza/PHY584_2023/electrons/'\n",
    "fname = dirname + 'ntuple_435.root'\n",
    "key='rechitntupler/hits'"
   ]
  },
  {
   "cell_type": "code",
   "execution_count": null,
   "metadata": {},
   "outputs": [],
   "source": [
    "branches = [u'rechit_chip', 'rechit_module', 'rechit_channel',\n",
    "                u'rechit_energy', 'rechit_layer']"
   ]
  },
  {
   "cell_type": "code",
   "execution_count": null,
   "metadata": {},
   "outputs": [],
   "source": [
    "ttree = uproot3.open(fname)[key]\n",
    "df = ttree.pandas.df(branches, entrystop=5000)"
   ]
  },
  {
   "cell_type": "code",
   "execution_count": null,
   "metadata": {},
   "outputs": [],
   "source": [
    "df = df.reset_index(level=1,drop=True)\n",
    "df.index.names = ['event']"
   ]
  },
  {
   "cell_type": "markdown",
   "metadata": {},
   "source": [
    "<font color='green'>Create the longitudinal profile and plot it</font>. The average longitudinal shower profiles can be described by a gamma distribution, following what is known as Longo's parametrisation:\n",
    "\n",
    "\\\\[\n",
    "\\frac{dE}{dt} = \\left\\langle E_0\\right\\rangle \\frac{(\\beta t)^{\\alpha-1}\\beta\\exp(-\\beta t)}{\\Gamma(\\alpha)}\n",
    "\\\\]\n",
    "\n",
    "It depends on the free parameters: $E_0$, the average shower energy, $\\alpha$ and $\\beta$, defining the shape of the profile. In [1](https://arxiv.org/pdf/hep-ex/0001020.pdf) you can find Grindhammer's paper on the parametrization of electromagnetic showers in calorimeters. \n",
    "\n",
    "<font color='green'>Implement Longo's parametrisation and fit the shower profile</font>. Check the values of the fit free parameters: do they make sense? Do you need to put some constraints on the parameters (e.g. initial guess with `p0`) to help the fit converge?"
   ]
  },
  {
   "cell_type": "code",
   "execution_count": null,
   "metadata": {},
   "outputs": [],
   "source": [
    "def showerShape(t, alpha, beta, E):\n",
    "    '''Gamma distribution to fit longitudial shower shapes in particles calorimeters.\n",
    "    See equation 2 in https://arxiv.org/pdf/hep-ex/0001020v1.pdf\n",
    "    '''\n",
    "    ## Implement here the Longo's parametrization"
   ]
  },
  {
   "cell_type": "code",
   "execution_count": null,
   "metadata": {},
   "outputs": [],
   "source": [
    "# Create the average longitudinal profile\n",
    "# Fit the average longitudinal profile"
   ]
  },
  {
   "attachments": {},
   "cell_type": "markdown",
   "metadata": {},
   "source": [
    "Let's focus on the position of the **shower maximum** $T_{max}$.\n",
    "Check (mathematically and visually) that the position of the shower maximum is given by\n",
    "\\\\[\n",
    "T_{max} = \\frac{\\alpha -1}{\\beta}\n",
    "\\\\]\n",
    "\n",
    "Similarly, the so called **average shower depth** $\\left\\langle t \\right\\rangle$ is defined as\n",
    "\\\\[\n",
    "    \\left\\langle t \\right\\rangle = \\frac{\\alpha}{\\beta}\n",
    "\\\\]\n",
    "Plot the position of the shower maximum $T_{max}$ and the average shower depth $\\left\\langle t \\right\\rangle$."
   ]
  },
  {
   "cell_type": "markdown",
   "metadata": {},
   "source": [
    "# Exercises"
   ]
  },
  {
   "cell_type": "markdown",
   "metadata": {},
   "source": [
    "In the `dirname` folder you can find the files for all the other beam energies. For each dataset:\n",
    " * Open the file as a pandas `df`;\n",
    " * Create the average longitudinal profiles and fit them with the shower shape parametrization you have implemented above;\n",
    " * Plot the `<T_max>` parameter from the fit vs the beam energy. What type of dependence do you wee?"
   ]
  },
  {
   "cell_type": "code",
   "execution_count": null,
   "metadata": {},
   "outputs": [],
   "source": [
    "energies = np.array([20, 30, 50, 80, 100, 120, 150, 200, 250, 300])\n",
    "runs = {\n",
    "    20:  455,\n",
    "    30:  596,\n",
    "    50:  458,\n",
    "    80:  469,\n",
    "    100: 490,\n",
    "    120: 620,\n",
    "    150: 494,\n",
    "    200: 664,\n",
    "    250: 653,\n",
    "    300: 435\n",
    "}"
   ]
  },
  {
   "cell_type": "code",
   "execution_count": null,
   "metadata": {},
   "outputs": [],
   "source": []
  }
 ],
 "metadata": {
  "kernelspec": {
   "display_name": "Python 3",
   "language": "python",
   "name": "python3"
  },
  "language_info": {
   "codemirror_mode": {
    "name": "ipython",
    "version": 2
   },
   "file_extension": ".py",
   "mimetype": "text/x-python",
   "name": "python",
   "nbconvert_exporter": "python",
   "pygments_lexer": "ipython2",
   "version": "2.7.15+"
  }
 },
 "nbformat": 4,
 "nbformat_minor": 2
}
