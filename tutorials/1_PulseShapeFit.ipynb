{
 "cells": [
  {
   "cell_type": "markdown",
   "metadata": {},
   "source": [
    "# The HGCAL beam test\n",
    "## Signal reconstruction"
   ]
  },
  {
   "cell_type": "code",
   "execution_count": 1,
   "metadata": {},
   "outputs": [],
   "source": [
    "import matplotlib\n",
    "import matplotlib.pyplot as plt\n",
    "from scipy.optimize import curve_fit\n",
    "import numpy as np"
   ]
  },
  {
   "cell_type": "markdown",
   "metadata": {},
   "source": [
    "In this notebook we apply what we have seen in the first tutorial directly to the HGCAL beam test data. You can consider this exercise as the first part of your ministage. Here we are going to study the very first step of a typical experimental experience, i.e. the signal reconstruction. Below here you have two sets of points: `time` and `pulse`, corresponding to the time at which a given pulse height was registered. They are read directly from a file: if you are not familiar with it, take some time to understand how reading from file is done in python. "
   ]
  },
  {
   "cell_type": "code",
   "execution_count": 2,
   "metadata": {},
   "outputs": [
    {
     "ename": "IOError",
     "evalue": "[Errno 2] No such file or directory: 'sk2cms_pulse_shape.txt'",
     "output_type": "error",
     "traceback": [
      "\u001b[0;31m---------------------------------------------------------------------------\u001b[0m",
      "\u001b[0;31mIOError\u001b[0m                                   Traceback (most recent call last)",
      "\u001b[0;32m<ipython-input-2-aadd11113536>\u001b[0m in \u001b[0;36m<module>\u001b[0;34m()\u001b[0m\n\u001b[0;32m----> 1\u001b[0;31m \u001b[0mfile\u001b[0m \u001b[0;34m=\u001b[0m \u001b[0mopen\u001b[0m\u001b[0;34m(\u001b[0m\u001b[0;34m\"sk2cms_pulse_shape.txt\"\u001b[0m\u001b[0;34m,\u001b[0m \u001b[0;34m\"r\"\u001b[0m\u001b[0;34m)\u001b[0m\u001b[0;34m\u001b[0m\u001b[0m\n\u001b[0m\u001b[1;32m      2\u001b[0m \u001b[0mtime\u001b[0m \u001b[0;34m=\u001b[0m \u001b[0;34m[\u001b[0m\u001b[0;34m]\u001b[0m\u001b[0;34m\u001b[0m\u001b[0m\n\u001b[1;32m      3\u001b[0m \u001b[0mpulse\u001b[0m \u001b[0;34m=\u001b[0m \u001b[0;34m[\u001b[0m\u001b[0;34m]\u001b[0m\u001b[0;34m\u001b[0m\u001b[0m\n\u001b[1;32m      4\u001b[0m \u001b[0;32mfor\u001b[0m \u001b[0mline\u001b[0m \u001b[0;32min\u001b[0m \u001b[0mfile\u001b[0m\u001b[0;34m.\u001b[0m\u001b[0mreadlines\u001b[0m\u001b[0;34m(\u001b[0m\u001b[0;34m)\u001b[0m\u001b[0;34m:\u001b[0m\u001b[0;34m\u001b[0m\u001b[0m\n\u001b[1;32m      5\u001b[0m     \u001b[0mcolumns\u001b[0m \u001b[0;34m=\u001b[0m \u001b[0mline\u001b[0m\u001b[0;34m.\u001b[0m\u001b[0msplit\u001b[0m\u001b[0;34m(\u001b[0m\u001b[0;34m)\u001b[0m\u001b[0;34m\u001b[0m\u001b[0m\n",
      "\u001b[0;31mIOError\u001b[0m: [Errno 2] No such file or directory: 'sk2cms_pulse_shape.txt'"
     ]
    }
   ],
   "source": [
    "file = open(\"sk2cms_pulse_shape.txt\", \"r\")\n",
    "time = []\n",
    "pulse = []\n",
    "for line in file.readlines():\n",
    "    columns = line.split()\n",
    "    time.append(float(columns[0]))\n",
    "    pulse.append(float(columns[1]))\n",
    "file.close()"
   ]
  },
  {
   "cell_type": "markdown",
   "metadata": {},
   "source": [
    "After creating the two datasets, we might to visualize the pulse shape distribution. <font color='green'>Plot the pulse vs time</font>.\n",
    "\n",
    "Notice how regular this distribution is: in a beam test environment, the recorded pulse shape is never so clean because of the possible noise but also due to the complex conditions being faced. However, this data were taken on a single chip, using a laser: this leads to a more precise response of the detector. This is someting very important, as we can exploit this much cleaner situation to understand what we should expect when we are in a beam test environment. More precisely, we want to know how to **fit the pulse shape distribution**  to retrieve the **maximum amplitude (A)** and the **time of the maximum (tMax)**. In fact, after calibrating the detector we are going to have a energy-to-signal equivalence scale, which tells us at which energy a signal of a given amplitude corresponds to."
   ]
  },
  {
   "cell_type": "code",
   "execution_count": null,
   "metadata": {},
   "outputs": [],
   "source": [
    "## Plot here pulse shape vs time"
   ]
  },
  {
   "cell_type": "markdown",
   "metadata": {},
   "source": [
    "Here below you have the function used for the 2016 and 2017 beam tests to fit the pulse shape and to reconstruct the signal: <font color='green'>fit the pulse shape with this function and plot the data and the fit line</font>. The distribution is normalised and the function depends on two free parameters: `A` and `tmax`. <font color='green'> What value do you find for the fit free parameters? </font>. Is it in agreement with your expectation?"
   ]
  },
  {
   "cell_type": "code",
   "execution_count": 3,
   "metadata": {},
   "outputs": [],
   "source": [
    "def current_pulseShape(t, A, tmax):\n",
    "    tRise = 35.0\n",
    "    n_ord = 3\n",
    "    tau = 18\n",
    "    a_1 = 1.85\n",
    "    dt = tmax-tRise\n",
    "    pShape = (A*a_1*(1 - ((t-(dt))/tau)/(n_ord+1))*((t-(dt))/tau)**n_ord*np.exp(-(t-(dt))/tau))*((t-dt)>0)\n",
    "    return pShape"
   ]
  },
  {
   "cell_type": "code",
   "execution_count": null,
   "metadata": {},
   "outputs": [],
   "source": [
    "## Fit the pulse shape, plot the fit line."
   ]
  },
  {
   "cell_type": "code",
   "execution_count": null,
   "metadata": {},
   "outputs": [],
   "source": [
    "## Print the value of the fit parameters."
   ]
  },
  {
   "cell_type": "markdown",
   "metadata": {},
   "source": [
    "We notice that the fit describes **qualitatively** well the data in the first part of the distribution, but around the minimum and after the disagreement between the function and the points gets worse and worse. <font color='green'>  What happens if you limit the fit range to the minimum or even before?</font>"
   ]
  },
  {
   "cell_type": "code",
   "execution_count": null,
   "metadata": {},
   "outputs": [],
   "source": [
    "cuts = [70, 60, 50, 40, 30, 20]\n",
    "amps = []\n",
    "a_err = []\n",
    "\n",
    "time = np.array(time)\n",
    "pulse = np.array(pulse)\n",
    "\n",
    "for cut in cuts:\n",
    "    ## Fit for time < cut \n",
    "    ## Store A and its error in amps and a_err\n",
    "    \n",
    "    \n",
    "## Hints:\n",
    "## Remember that in python you can select portions of lists with [].\n",
    "## The method .append() is quite useful to add stuff to a list in a for loop."
   ]
  },
  {
   "cell_type": "markdown",
   "metadata": {},
   "source": [
    "<font color='green'>Plot the amplitude `A` values corresponding to each value of the `cut`, assigning to each point the corresponding uncertainty `a_err` </font>. \n",
    "\n",
    "The `errorbar` method of `matplotlib` creates error-bar plots. \n",
    "\n",
    "The syntax is the following: </break>\n",
    "`plt.errorbar(x, y, xerr = None, yerr = None, marker = 'o', linestyle = 'None')`\n",
    "\n",
    "\n",
    "Setting `xerr` or `yerr` to a `ndarray` will plot the values of the array as error bars. "
   ]
  },
  {
   "cell_type": "code",
   "execution_count": null,
   "metadata": {},
   "outputs": [],
   "source": [
    "## Plot here the A values with the corresponding errors"
   ]
  },
  {
   "cell_type": "markdown",
   "metadata": {},
   "source": [
    "We note that after excluding the minimum, the result of the fit becomes more stable. However the function used above is not the best choice if we want to fit the entire distribution, taking into account also the undershoot. During the beam test analysis a new function was proposed:"
   ]
  },
  {
   "cell_type": "code",
   "execution_count": 4,
   "metadata": {},
   "outputs": [],
   "source": [
    "def pulseShape_new(t, A, tmax):\n",
    "    a_1 = 1.608\n",
    "    tRise = 35.0\n",
    "    n_ord = 3\n",
    "    tau = 18\n",
    "    alpha = 0.931\n",
    "    a_0 = 0\n",
    "    dt = tmax - tRise\n",
    "    pShape = (A*a_1*(1 - ((t-(dt))/tau)/(n_ord+1))*((t-(dt))/tau)**n_ord*np.exp(-alpha*(t-(dt))/tau))*((t-dt)>0)+a_0\n",
    "    #th = -0.8\n",
    "    #pShape[pShape<th] = th\n",
    "    return pShape"
   ]
  },
  {
   "cell_type": "markdown",
   "metadata": {},
   "source": [
    "The comparison involves different steps:\n",
    " * <font color='green'> Which is (are) the difference(s) between the new function and the current one</font>;\n",
    " * <font color='green'> Fit the data with both functions up to 70ns and plot the resulting curves</font>;\n",
    " * <font color='green'> Repeat the exercise above with the new function</font>. "
   ]
  },
  {
   "cell_type": "code",
   "execution_count": null,
   "metadata": {},
   "outputs": [],
   "source": [
    "## Plot here the data with the two fits.\n",
    "## Add a legend with the value of A (and its error) in both cases."
   ]
  },
  {
   "cell_type": "code",
   "execution_count": null,
   "metadata": {},
   "outputs": [],
   "source": [
    "## Plot here the A values with the corresponding errors for the new pulse shape"
   ]
  },
  {
   "cell_type": "markdown",
   "metadata": {},
   "source": [
    "Here below you can find a new set of data. These correspond to real beam test data, i.e. not from the laser injection campaign. \n",
    "\n",
    "<font color='green'>Plot this new pulse shape</font>. Restrict the fit range up to the minimum of the distribution. Do you note any difference with the previous one? The most striking one is that this distribution is more noisy than the one we used above. You can also note something peculiar happening around 200 ns. When you arrive here, we can take a moment do discuss about this behaviour.\n",
    "\n",
    "<font color='green'>Compare the two fit functions</font>. In the same plot, add the fit curves using the two functions defined above. Note that these data have a different shaping time - due to an additional capacitance present in the full module. This leads to a larger $\\tau$ to be used to describe the pulse shape. In this case **you have to set** $\\tau$**=22**."
   ]
  },
  {
   "cell_type": "code",
   "execution_count": 5,
   "metadata": {},
   "outputs": [],
   "source": [
    "x_data = [-31.25 , -28.125 , -25.0 , -21.875 , -18.75 , -12.5 , -6.25 , -3.125 , 0.0 , 3.125 , 6.25 , 12.5 , 18.75 , 21.875 , 25.0 , 28.125 , 31.25 , 37.5 , 43.75 , 46.875 , 50.0 , 53.125 , 56.25 , 62.5 , 68.75 , 71.875 , 75.0 , 78.125 , 81.25 , 87.5 , 93.75 , 96.875 , 100.0 , 103.125 , 106.25 , 112.5 , 118.75 , 121.875 , 125.0 , 128.125 , 131.25 , 137.5 , 143.75 , 146.875 , 150.0 , 153.125 , 156.25 , 162.5 , 168.75 , 171.875 , 175.0 , 178.125 , 181.25 , 187.5 , 193.75 , 196.875 , 200.0 , 203.125 , 206.25 , 212.5 , 218.75 , 221.875 , 225.0 , 228.125 , 231.25 , 237.5 , 243.75 , 246.875 , 250.0 , 253.125 , 256.25 , 262.5 , 268.75 , 271.875 , 275.0 , 278.125 , 281.25 , 287.5]\n",
    "y_data = [0.0 , 0.008888888888888889 , 0.008888888888888889 , 0.04 , -0.13777777777777778 , -0.013333333333333334 , 0.044444444444444446 , 0.06222222222222222 , 0.12 , 0.3111111111111111 , 0.2577777777777778 , 0.5466666666666666 , 0.7288888888888889 , 0.8555555555555555 , 0.8466666666666667 , 0.9955555555555555 , 1.0 , 0.9555555555555556 , 0.8844444444444445 , 0.8444444444444444 , 0.7555555555555555 , 0.6866666666666666 , 0.6044444444444445 , 0.3511111111111111 , 0.27111111111111114 , 0.16 , 0.09333333333333334 , -0.04888888888888889 , -0.13333333333333333 , -0.3244444444444444 , -0.3688888888888889 , -0.4088888888888889 , -0.49777777777777776 , -0.5244444444444445 , -0.5511111111111111 , -0.5911111111111111 , -0.6133333333333333 , -0.6577777777777778 , -0.6488888888888888 , -0.6088888888888889 , -0.5866666666666667 , -0.5555555555555556 , -0.5355555555555556 , -0.5066666666666667 , -0.48444444444444446 , -0.4888888888888889 , -0.4 , -0.3333333333333333 , -0.3022222222222222 , -0.26666666666666666 , -0.23555555555555555 , -0.25333333333333335 , -0.2577777777777778 , -0.14666666666666667 , -0.4311111111111111 , -0.43777777777777777 , -0.37777777777777777 , -0.4177777777777778 , -0.4711111111111111 , -0.37333333333333335 , -0.8888888888888888 , -0.8888888888888888 , -0.8888888888888888 , -0.8888888888888888 , -0.8888888888888888 , -0.8888888888888888 , 0.03111111111111111 , 0.02666666666666667 , 0.057777777777777775 , -0.02666666666666667 , 0.04 , 0.015555555555555555 , 0.04888888888888889 , -0.013333333333333334 , 0.028888888888888888 , 0.022222222222222223 , 0.02666666666666667 , -0.0044444444444444444]"
   ]
  },
  {
   "cell_type": "code",
   "execution_count": 6,
   "metadata": {},
   "outputs": [],
   "source": [
    "x_data = np.array(x_data)\n",
    "y_data = np.array(y_data)"
   ]
  },
  {
   "cell_type": "code",
   "execution_count": null,
   "metadata": {},
   "outputs": [],
   "source": []
  }
 ],
 "metadata": {
  "kernelspec": {
   "display_name": "Python 3",
   "language": "python",
   "name": "python3"
  },
  "language_info": {
   "codemirror_mode": {
    "name": "ipython",
    "version": 2
   },
   "file_extension": ".py",
   "mimetype": "text/x-python",
   "name": "python",
   "nbconvert_exporter": "python",
   "pygments_lexer": "ipython2",
   "version": "2.7.15+"
  }
 },
 "nbformat": 4,
 "nbformat_minor": 2
}
