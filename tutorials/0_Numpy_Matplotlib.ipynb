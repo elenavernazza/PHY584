{
 "cells": [
  {
   "cell_type": "markdown",
   "metadata": {},
   "source": [
    "# Quick tour in numpy and matplotlib"
   ]
  },
  {
   "cell_type": "markdown",
   "metadata": {},
   "source": [
    "In this notebook we give a basic overview of the numpy and matplotlib libraries."
   ]
  },
  {
   "cell_type": "code",
   "execution_count": null,
   "metadata": {},
   "outputs": [],
   "source": [
    "import matplotlib\n",
    "import matplotlib.pyplot as plt\n",
    "import numpy as np"
   ]
  },
  {
   "cell_type": "markdown",
   "metadata": {},
   "source": [
    "Some useful functions of `numpy` to generate arrays:\n",
    " * np.arange(xmin, xmax, step)\n",
    " * np.linspace(xmin, xmax, npoints)\n",
    " * np.ones(length)\n",
    " * np.zeros(length)\n",
    " \n",
    "Clearly `numpy` also supports all the math functions you might expect. \n",
    "In any case, you can always write your own function ;)\n",
    "\n",
    "Let's say we want to generate some points from 0.0 to 2.0, in steps of 0.025.\n",
    "To do so we can use the `np.arange()` method. We can also compute the value of\n",
    "the function $ f(x)\\, =\\, 1+\\sin(2\\pi x)$."
   ]
  },
  {
   "cell_type": "code",
   "execution_count": null,
   "metadata": {},
   "outputs": [],
   "source": [
    "x = np.arange(0.0, 2.0, 0.025) \n",
    "y = 1 + np.sin(2 * np.pi * x)"
   ]
  },
  {
   "cell_type": "code",
   "execution_count": null,
   "metadata": {},
   "outputs": [],
   "source": [
    "fig, ax = plt.subplots()\n",
    "## the last argument here simply sets the marker\n",
    "ax.plot(x, y, '.') \n",
    "\n",
    "ax.set(xlabel='time (s)', ylabel='voltage (mV)',\n",
    "       title='A quick plot')\n",
    "ax.grid()\n",
    "\n",
    "plt.show()"
   ]
  },
  {
   "cell_type": "markdown",
   "metadata": {},
   "source": [
    "## Quicker tour into fitting with [`scipy.optimize.curve_fit()`](https://docs.scipy.org/doc/scipy/reference/generated/scipy.optimize.curve_fit.html)"
   ]
  },
  {
   "cell_type": "markdown",
   "metadata": {},
   "source": [
    "Now that we have learnt how to use numpy and how to plot, let's try to fit the data we have created above.\n",
    "\n",
    "First of all, we need to import `curve_fit` from `optimize` of `scipy` :"
   ]
  },
  {
   "cell_type": "code",
   "execution_count": null,
   "metadata": {},
   "outputs": [],
   "source": [
    "from scipy.optimize import curve_fit"
   ]
  },
  {
   "cell_type": "markdown",
   "metadata": {},
   "source": [
    "Whenever you want to have some information about a function, you can use the `help()` method. It is quite verbose, but you will get a clear printout of how a method works."
   ]
  },
  {
   "cell_type": "code",
   "execution_count": null,
   "metadata": {},
   "outputs": [],
   "source": [
    "#help(curve_fit)"
   ]
  },
  {
   "cell_type": "markdown",
   "metadata": {},
   "source": [
    "First of all, let's add some noise to our data. Every time we have to deal with real-world data, we always have to take into account some source of noise. Hence, we add a random normal fluctuation to our `f(x)` values. Here we use a gaussian smearing of 0.1$\\sigma$. You can try to play around with this parameter and see what happens."
   ]
  },
  {
   "cell_type": "code",
   "execution_count": null,
   "metadata": {},
   "outputs": [],
   "source": [
    "y = y + np.random.normal(0, 0.1, len(x))"
   ]
  },
  {
   "cell_type": "markdown",
   "metadata": {},
   "source": [
    "Next step: we have to define a function for the fit. `curve_fit` will compute the difference between the expected function at each one of the $\\left\\lbrace x_{i}\\right\\rbrace$ and the $\\left\\lbrace y_{i}\\right\\rbrace$ values we registered. We define `sinf` with two free parameter:\n",
    " * A: the normalisation parameter of `np.sin()`;\n",
    " * b: the multiplicative factor of `x`."
   ]
  },
  {
   "cell_type": "code",
   "execution_count": null,
   "metadata": {},
   "outputs": [],
   "source": [
    "def sinf(x, A, b):\n",
    "    return 1.0 + A*np.sin(b*x)"
   ]
  },
  {
   "cell_type": "markdown",
   "metadata": {},
   "source": [
    "`curve_fit` expects 3 arguments:\n",
    " * The fit function, in our case `sinf`;\n",
    " * The `x` and `y` arrays of data;\n",
    " * In this case we also use the `p0` argument, \n",
    "     which sets an initial guess for the fit free parameters.\n",
    "\n",
    "For more options (such as including uncertainties to the fit and boundaries on the fit free parameters) you can have a look at the [`curve_fit` documentation](https://docs.scipy.org/doc/scipy/reference/generated/scipy.optimize.curve_fit.html)."
   ]
  },
  {
   "cell_type": "code",
   "execution_count": null,
   "metadata": {},
   "outputs": [],
   "source": [
    "popt, pcov = curve_fit(sinf, x, y, p0 = [1.0, 6.])"
   ]
  },
  {
   "cell_type": "code",
   "execution_count": null,
   "metadata": {},
   "outputs": [],
   "source": [
    "fig, ax = plt.subplots()\n",
    "## the last argument here simply sets the marker\n",
    "ax.plot(x, y, '.', label = 'Data') \n",
    "ax.plot(np.linspace(-0.5, 2.3, 100), sinf(np.linspace(-0.5, 2.3, 100), *popt), '-', label = 'Fit')\n",
    "\n",
    "ax.set(xlabel='time (s)', ylabel='voltage (mV)',\n",
    "       title='A quick plot')\n",
    "ax.grid()\n",
    "ax.legend()\n",
    "plt.show()"
   ]
  },
  {
   "cell_type": "markdown",
   "metadata": {},
   "source": [
    "Let's have a look at the fit results:\n",
    " * `popt`: Optimal values for the parameters so that the sum of the squared residuals of `f(xdata, *popt) - ydata` is minimized;\n",
    " * `pcov`: The estimated covariance of popt. The diagonals provide the variance of the parameter estimate. To compute one standard deviation errors on the parameters use `perr = np.sqrt(np.diag(pcov))`."
   ]
  },
  {
   "cell_type": "code",
   "execution_count": null,
   "metadata": {},
   "outputs": [],
   "source": [
    "from IPython.display import display, Math\n",
    "perr = np.sqrt(np.diag(pcov))\n",
    "display(Math('\\mathrm{Fit\\;parameters}: A = %.2f,\\; b = %.2f' %(popt[0], popt[1])))\n",
    "display(Math(r'\\mathrm{Fit\\;uncertainties}: \\sigma_{A} = %.2f,\\; \\sigma_{b} = %.2f' %(perr[0], perr[1])))"
   ]
  },
  {
   "cell_type": "markdown",
   "metadata": {},
   "source": [
    "## Histograms and fit"
   ]
  },
  {
   "cell_type": "markdown",
   "metadata": {},
   "source": [
    "In this section we give a quick look to histograms, binning and something more about fitting.\n",
    "There are two main methods you can use in python to deal with a histogram (i.e. a binned series):\n",
    " * `plt.hist(series, bins)`: you use this method in case you want to plot directly the histogram. This methods returns `n`, the values of the histogram bins, `bins`, the edges of the bins and `patches`, silent list of individual patches used to create the histogram or list of such list if multiple input datasets.\n",
    " * `np.hisogram(series, bins)`: compute the histogram of a set of data. This method returns `hist`, the values of the histogram and `bin_edges`, the bin edges `(length(hist)+1)`.\n",
    "\n",
    "In the following we generate some normal distributions and we fit with a user-defined gaussian function, using the `curve_fit` method shown above. Let's start by defining the `gaussian` function:"
   ]
  },
  {
   "cell_type": "code",
   "execution_count": null,
   "metadata": {},
   "outputs": [],
   "source": [
    "def gaussian(x, A, sigma, mu):\n",
    "    return A/(sigma * np.sqrt(2 * np.pi))*np.exp( - (x - mu)**2 / (2 * sigma**2) )"
   ]
  },
  {
   "cell_type": "markdown",
   "metadata": {},
   "source": [
    "Now we create an array of $10^6$ random numbers, generated according to a normal distribution. Then we create two histograms using both `plt.hist()` and `np.histogram()`."
   ]
  },
  {
   "cell_type": "code",
   "execution_count": null,
   "metadata": {},
   "outputs": [],
   "source": [
    "gaus_val = np.random.normal(0.0, 0.05, 10000000)"
   ]
  },
  {
   "cell_type": "code",
   "execution_count": null,
   "metadata": {},
   "outputs": [],
   "source": [
    "vals = [g*np.exp(-1.5*g**2) for g in gaus_val]"
   ]
  },
  {
   "cell_type": "code",
   "execution_count": null,
   "metadata": {},
   "outputs": [],
   "source": [
    "# t = plt.hist(vals, bins = np.linspace(-0.3, 0.3, 100))"
   ]
  },
  {
   "cell_type": "code",
   "execution_count": null,
   "metadata": {},
   "outputs": [],
   "source": [
    "n, bins, patches = plt.hist(gaus_val, bins = np.linspace(-0.3, 0.3, 100))\n",
    "hist, bin_edges  = np.histogram(gaus_val, bins = np.linspace(-0.3, 0.3, 100))"
   ]
  },
  {
   "cell_type": "markdown",
   "metadata": {},
   "source": [
    "Calling `plt.hist` automatically plots the histogram of the series we are providing to this method. Hence, sometime is better to use `np.hisogram`, if you do not want the plots to appear and make your notebook longer and longer. Also note that it is preferable to assing `plt.hist()` to a variable, otherwise you also get the printout of all the contents in each bin. For example, try to run:"
   ]
  },
  {
   "cell_type": "code",
   "execution_count": null,
   "metadata": {},
   "outputs": [],
   "source": [
    "# plt.hist(gaus_val, bins = np.linspace(-0.3, 0.3, 100))"
   ]
  },
  {
   "cell_type": "markdown",
   "metadata": {},
   "source": [
    "It is also worth to mention that the bins edges returned by the two methods have length larger than the values of the histogram. Hence we need to remove the overflow bin when we want to plot `bins` vs `n` (or `bin_edges` vs `hist`):"
   ]
  },
  {
   "cell_type": "code",
   "execution_count": null,
   "metadata": {},
   "outputs": [],
   "source": [
    "plt.figure(figsize=(8,4))\n",
    "t = plt.hist(gaus_val, bins = np.linspace(-0.3, 0.3, 100))\n",
    "plt.plot(bins[:-1], n, 'ko', label = 'points from plt.hist()')\n",
    "plt.plot(bin_edges[:-1], hist, 'r*', label = 'points from np.histogram()')\n",
    "plt.legend()"
   ]
  },
  {
   "cell_type": "markdown",
   "metadata": {},
   "source": [
    "Last but not least, the bins edges above do not correspond to the bins centers. This is why in the plot above, the points are not aligned with the histogram. Let's define the bin centers and then use these points to fit the above distribution with a gaussian:"
   ]
  },
  {
   "cell_type": "code",
   "execution_count": null,
   "metadata": {},
   "outputs": [],
   "source": [
    "bins = (bins[:-1] + bins[1:])/2\n",
    "bin_edges = (bin_edges[:-1] + bin_edges[1:])/2"
   ]
  },
  {
   "cell_type": "code",
   "execution_count": null,
   "metadata": {},
   "outputs": [],
   "source": [
    "plt.figure(figsize=(8,4))\n",
    "plt.title('Aligned bin edges')\n",
    "t = plt.hist(gaus_val, bins = np.linspace(-0.3, 0.3, 100))\n",
    "plt.plot(bins, n, 'ko', label = 'points from plt.hist()')\n",
    "plt.plot(bin_edges, hist, 'r*', label = 'points from np.histogram()')\n",
    "plt.legend()"
   ]
  },
  {
   "cell_type": "markdown",
   "metadata": {},
   "source": [
    "Same as above: least squares fit using curve_fit.\n",
    "In this case the $\\left\\lbrace x_i \\,,\\,y_i\\right\\rbrace$ points used for the fit are\n",
    "the bin centers and the entries in each bin $\\left\\lbrace bins_i \\,,\\,n_i\\right\\rbrace $.\n",
    "We also set some initial guess (`p0`) for the fit free parameters: In particular we use\n",
    "the maximum bin content for the normalisation constant `A` and the median of the bins centers\n",
    "for the mean `mu`.\n"
   ]
  },
  {
   "cell_type": "code",
   "execution_count": null,
   "metadata": {},
   "outputs": [],
   "source": [
    "popt, pcov = curve_fit(gaussian, bins, n)#, p0 = [n.max(), np.median(bins), 0.05])"
   ]
  },
  {
   "cell_type": "code",
   "execution_count": null,
   "metadata": {},
   "outputs": [],
   "source": [
    "plt.figure(figsize=(8, 4))\n",
    "plt.title('Fit with normal distribution')\n",
    "plt.plot(bins, n, 'ko', label = 'points from plt.hist()')\n",
    "plt.plot(bin_edges, hist, 'r*', label = 'points from np.histogram()')\n",
    "plt.plot(np.linspace(-0.3, 0.3, 100), gaussian(np.linspace(-0.3, 0.3, 100), *popt), '-', label = 'Fit')\n",
    "plt.legend()"
   ]
  }
 ],
 "metadata": {
  "kernelspec": {
   "display_name": "Python 3",
   "language": "python",
   "name": "python3"
  },
  "language_info": {
   "codemirror_mode": {
    "name": "ipython",
    "version": 2
   },
   "file_extension": ".py",
   "mimetype": "text/x-python",
   "name": "python",
   "nbconvert_exporter": "python",
   "pygments_lexer": "ipython2",
   "version": "2.7.15+"
  }
 },
 "nbformat": 4,
 "nbformat_minor": 2
}
